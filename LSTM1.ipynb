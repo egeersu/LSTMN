{
 "cells": [
  {
   "cell_type": "code",
   "execution_count": 1,
   "metadata": {},
   "outputs": [],
   "source": [
    "using Knet"
   ]
  },
  {
   "cell_type": "markdown",
   "metadata": {},
   "source": [
    "STANFORD GLOVE EMBEDDINGS "
   ]
  },
  {
   "cell_type": "code",
   "execution_count": 2,
   "metadata": {},
   "outputs": [
    {
     "data": {
      "text/plain": [
       "IOStream(<file glove.42B.300d.txt>)"
      ]
     },
     "execution_count": 2,
     "metadata": {},
     "output_type": "execute_result"
    }
   ],
   "source": [
    "f = open(\"glove.42B.300d.txt\")"
   ]
  },
  {
   "cell_type": "code",
   "execution_count": 3,
   "metadata": {},
   "outputs": [],
   "source": [
    "lines = readlines(f);"
   ]
  },
  {
   "cell_type": "code",
   "execution_count": 5,
   "metadata": {},
   "outputs": [],
   "source": [
    "embeddingdict = Dict()\n",
    "embeddingindex = 1\n",
    "for line in lines\n",
    "    strword = split(line)\n",
    "    strname = strword[1]\n",
    "    embeddingdict[strname] = embeddingindex\n",
    "    embeddingindex+=1\n",
    "end"
   ]
  },
  {
   "cell_type": "markdown",
   "metadata": {},
   "source": [
    "SENTIMENT TREEBANK DATA"
   ]
  },
  {
   "cell_type": "code",
   "execution_count": 161,
   "metadata": {},
   "outputs": [
    {
     "data": {
      "text/plain": [
       "\"the\""
      ]
     },
     "execution_count": 161,
     "metadata": {},
     "output_type": "execute_result"
    }
   ],
   "source": [
    "lowercase(\"The\")"
   ]
  },
  {
   "cell_type": "code",
   "execution_count": 227,
   "metadata": {},
   "outputs": [],
   "source": [
    "txt1 = open(\"sentences.txt\")\n",
    "lines1 = readlines(txt1)\n",
    "txt2 = open(\"labels.txt\")\n",
    "lines2 = readlines(txt2);"
   ]
  },
  {
   "cell_type": "code",
   "execution_count": 228,
   "metadata": {},
   "outputs": [],
   "source": [
    "all_sentences = (x -> split(x)).(lines1);\n",
    "all_sentences = [(x -> lowercase(x)).(s) for s in all_sentences]\n",
    "        \n",
    "train_sentences2 = all_sentences[1:8534]\n",
    "test_sentences2 = all_sentences[8535:10744]\n",
    "val_sentences2 = all_sentences[10745:11844]\n",
    "\n",
    "train_labels = lines2[1:8534]\n",
    "test_labels = lines2[8535:10744]\n",
    "val_labels = lines2[10745:11844];"
   ]
  },
  {
   "cell_type": "code",
   "execution_count": 183,
   "metadata": {},
   "outputs": [],
   "source": [
    "vocab = []\n",
    "for sentence in all_sentences\n",
    "    for word in sentence\n",
    "        if !(word in vocab); push!(vocab, word);end\n",
    "    end\n",
    "end"
   ]
  },
  {
   "cell_type": "code",
   "execution_count": 229,
   "metadata": {},
   "outputs": [],
   "source": [
    "w2i = Dict()\n",
    "i2w = Dict()\n",
    "dictindex = 1\n",
    "for word in vocab\n",
    "    w2i[word] = dictindex\n",
    "    i2w[dictindex] = word\n",
    "    dictindex+=1\n",
    "end"
   ]
  },
  {
   "cell_type": "code",
   "execution_count": 230,
   "metadata": {},
   "outputs": [],
   "source": [
    "all_sentences = [(x -> w2i[x]).(s) for s in all_sentences]\n",
    "train_sentences = all_sentences[1:8534]\n",
    "test_sentences = all_sentences[8535:10744]\n",
    "val_sentences = all_sentences[10745:11844];"
   ]
  },
  {
   "cell_type": "markdown",
   "metadata": {},
   "source": [
    "CONSTRUCTING THE EMBEDDING MATRIX"
   ]
  },
  {
   "cell_type": "code",
   "execution_count": 244,
   "metadata": {},
   "outputs": [],
   "source": [
    "embed = []\n",
    "count = 0\n",
    "for word in vocab\n",
    "    if word in keys(embeddingdict)\n",
    "        wordvector = (x-> parse(Float32, x)).(split(lines[embeddingdict[word]])[2:301])\n",
    "        count += 1\n",
    "    else\n",
    "        wordvector = zeros(Float32, 300)\n",
    "    end\n",
    "    push!(embed, hcat(wordvector))\n",
    "end"
   ]
  },
  {
   "cell_type": "code",
   "execution_count": 245,
   "metadata": {},
   "outputs": [],
   "source": [
    "embed = KnetArray(permutedims(hcat(embed...)));"
   ]
  },
  {
   "cell_type": "code",
   "execution_count": 246,
   "metadata": {},
   "outputs": [
    {
     "data": {
      "text/plain": [
       "(19506, 300)"
      ]
     },
     "execution_count": 246,
     "metadata": {},
     "output_type": "execute_result"
    }
   ],
   "source": [
    "size(embed)"
   ]
  },
  {
   "cell_type": "code",
   "execution_count": 247,
   "metadata": {},
   "outputs": [
    {
     "name": "stdout",
     "output_type": "stream",
     "text": [
      "18593 out of 19506 words are in Stanford Glove Embeddings. The rest is initialized randomly.\n"
     ]
    }
   ],
   "source": [
    "println(count, \" out of \", length(vocab), \" words are in Stanford Glove Embeddings. The rest is initialized randomly.\")"
   ]
  },
  {
   "cell_type": "code",
   "execution_count": 248,
   "metadata": {},
   "outputs": [
    {
     "data": {
      "text/plain": [
       "true"
      ]
     },
     "execution_count": 248,
     "metadata": {},
     "output_type": "execute_result"
    }
   ],
   "source": [
    "#CHECK that it works\n",
    "checker = []\n",
    "for line in lines\n",
    "    sentence = split(line)\n",
    "    if sentence[1] == \"terrible\"\n",
    "        checker = (sentence[2:301])\n",
    "        break;\n",
    "    end\n",
    "end\n",
    "parse(Float32, checker[1]) == embed[w2i[\"terrible\"]]"
   ]
  },
  {
   "cell_type": "markdown",
   "metadata": {},
   "source": [
    "SET UP MODEL"
   ]
  },
  {
   "cell_type": "code",
   "execution_count": 253,
   "metadata": {},
   "outputs": [
    {
     "data": {
      "text/plain": [
       "1.0e-8"
      ]
     },
     "execution_count": 253,
     "metadata": {},
     "output_type": "execute_result"
    }
   ],
   "source": [
    "# Set constants for the model and training\n",
    "EPOCHS=3          # Number of training epochs\n",
    "BATCHSIZE=34      # Number of instances in a minibatch\n",
    "EMBEDSIZE=125     # Word embedding size\n",
    "NUMHIDDEN=100     # Hidden layer size\n",
    "MAXLEN=150        # maximum size of the word sequence, pad shorter sequences, truncate longer ones\n",
    "VOCABSIZE=30000   # maximum vocabulary size, keep the most frequent 30K, map the rest to UNK token\n",
    "NUMCLASS=2        # number of output classes\n",
    "DROPOUT=0.5       # Dropout rate\n",
    "LR=0.001          # Learning rate\n",
    "BETA_1=0.9        # Adam optimization parameter\n",
    "BETA_2=0.999      # Adam optimization parameter\n",
    "EPS=1e-08         # Adam optimization parameter"
   ]
  },
  {
   "cell_type": "code",
   "execution_count": 259,
   "metadata": {},
   "outputs": [],
   "source": [
    "struct SequenceClassifier; input; rnn; output; pdrop; end"
   ]
  },
  {
   "cell_type": "code",
   "execution_count": 260,
   "metadata": {},
   "outputs": [
    {
     "data": {
      "text/plain": [
       "SequenceClassifier"
      ]
     },
     "execution_count": 260,
     "metadata": {},
     "output_type": "execute_result"
    }
   ],
   "source": [
    "SequenceClassifier(input::Int, embed::Int, hidden::Int, output::Int; pdrop=0) =\n",
    "    SequenceClassifier(param(embed,input), RNN(embed,hidden,rnnType=:gru), param(output,hidden), pdrop)"
   ]
  },
  {
   "cell_type": "code",
   "execution_count": 261,
   "metadata": {},
   "outputs": [
    {
     "data": {
      "text/plain": [
       "SequenceClassifier"
      ]
     },
     "execution_count": 261,
     "metadata": {},
     "output_type": "execute_result"
    }
   ],
   "source": [
    "SequenceClassifier(input,rnn,output;pdrop=0) = SequenceClassifier(input,rnn,output,pdrop)"
   ]
  },
  {
   "cell_type": "code",
   "execution_count": 262,
   "metadata": {},
   "outputs": [],
   "source": [
    "function (sc::SequenceClassifier)(input)\n",
    "    embed = sc.input[:, permutedims(hcat(input...))]\n",
    "    embed = dropout(embed,sc.pdrop)\n",
    "    hidden = sc.rnn(embed)\n",
    "    hidden = dropout(hidden,sc.pdrop)\n",
    "    return sc.output * hidden[:,:,end]\n",
    "end"
   ]
  },
  {
   "cell_type": "code",
   "execution_count": 267,
   "metadata": {},
   "outputs": [],
   "source": [
    "(sc::SequenceClassifier)(input,output) = nll(sc(input),output)\n",
    "(sc::SequenceClassifier)(d::Knet.Data) = Knet.mean(sc(x,y) for (x,y) in d)"
   ]
  },
  {
   "cell_type": "code",
   "execution_count": 264,
   "metadata": {},
   "outputs": [
    {
     "data": {
      "text/plain": [
       "(251, 65)"
      ]
     },
     "execution_count": 264,
     "metadata": {},
     "output_type": "execute_result"
    }
   ],
   "source": [
    "dtrn = minibatch(train_sentences,train_labels,BATCHSIZE;shuffle=true)\n",
    "dtst = minibatch(test_sentences,test_labels ,BATCHSIZE)\n",
    "length(dtrn), length(dtst)"
   ]
  },
  {
   "cell_type": "code",
   "execution_count": 265,
   "metadata": {},
   "outputs": [
    {
     "data": {
      "text/plain": [
       "SequenceClassifier(P(KnetArray{Float32,2}(125,30000)), GRU(input=125,hidden=100), P(KnetArray{Float32,2}(2,100)), 0.5)"
      ]
     },
     "execution_count": 265,
     "metadata": {},
     "output_type": "execute_result"
    }
   ],
   "source": [
    "model = SequenceClassifier(VOCABSIZE,EMBEDSIZE,NUMHIDDEN,NUMCLASS,pdrop=DROPOUT)"
   ]
  },
  {
   "cell_type": "code",
   "execution_count": 268,
   "metadata": {},
   "outputs": [
    {
     "ename": "DimensionMismatch",
     "evalue": "DimensionMismatch(\"vectors must have same lengths\")",
     "output_type": "error",
     "traceback": [
      "DimensionMismatch(\"vectors must have same lengths\")",
      "",
      "Stacktrace:",
      " [1] hcat(::Array{Int64,1}, ::Array{Int64,1}, ::Array{Int64,1}, ::Vararg{Array{Int64,1},N} where N) at ./array.jl:1524",
      " [2] (::SequenceClassifier)(::Array{Array{Int64,1},1}) at ./In[262]:2",
      " [3] (::SequenceClassifier)(::Array{Array{Int64,1},1}, ::Array{String,1}) at ./In[267]:1",
      " [4] (::getfield(Main, Symbol(\"##249#250\")){SequenceClassifier})(::Tuple{Array{Array{Int64,1},1},Array{String,1}}) at ./none:0",
      " [5] mean(::typeof(identity), ::Base.Generator{Knet.Data{Tuple{Array{Array{Int64,1},1},Array{String,1}}},getfield(Main, Symbol(\"##249#250\")){SequenceClassifier}}) at ./generator.jl:47",
      " [6] mean(::Base.Generator{Knet.Data{Tuple{Array{Array{Int64,1},1},Array{String,1}}},getfield(Main, Symbol(\"##249#250\")){SequenceClassifier}}) at /buildworker/worker/package_linux64/build/usr/share/julia/stdlib/v1.1/Statistics/src/Statistics.jl:42",
      " [7] (::SequenceClassifier)(::Knet.Data{Tuple{Array{Array{Int64,1},1},Array{String,1}}}) at ./In[267]:2",
      " [8] top-level scope at In[268]:1"
     ]
    }
   ],
   "source": [
    "model(dtrn)"
   ]
  },
  {
   "cell_type": "code",
   "execution_count": null,
   "metadata": {},
   "outputs": [],
   "source": []
  }
 ],
 "metadata": {
  "kernelspec": {
   "display_name": "Julia 1.1.0",
   "language": "julia",
   "name": "julia-1.1"
  },
  "language_info": {
   "file_extension": ".jl",
   "mimetype": "application/julia",
   "name": "julia",
   "version": "1.1.0"
  }
 },
 "nbformat": 4,
 "nbformat_minor": 2
}
