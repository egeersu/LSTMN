{
 "cells": [
  {
   "cell_type": "code",
   "execution_count": 2,
   "metadata": {},
   "outputs": [],
   "source": [
    "using Knet\n",
    "import Base: length, size, iterate, eltype, IteratorSize, IteratorEltype, haslength, @propagate_inbounds, repeat, rand, tail\n",
    "import .Iterators: cycle, Cycle, take, repeat\n",
    "using Plots; default(fmt=:png,ls=:auto)"
   ]
  },
  {
   "cell_type": "code",
   "execution_count": 3,
   "metadata": {},
   "outputs": [
    {
     "data": {
      "text/plain": [
       "IOStream(<file glove.42B.300d.txt>)"
      ]
     },
     "execution_count": 3,
     "metadata": {},
     "output_type": "execute_result"
    }
   ],
   "source": [
    "f = open(\"glove.42B.300d.txt\")"
   ]
  },
  {
   "cell_type": "code",
   "execution_count": 4,
   "metadata": {},
   "outputs": [],
   "source": [
    "lines = readlines(f);"
   ]
  },
  {
   "cell_type": "code",
   "execution_count": 5,
   "metadata": {},
   "outputs": [],
   "source": [
    "embeddingdict = Dict()\n",
    "embeddingindex = 1\n",
    "for line in lines\n",
    "    strword = split(line)\n",
    "    strname = strword[1]\n",
    "    embeddingdict[strname] = embeddingindex\n",
    "    embeddingindex+=1\n",
    "end"
   ]
  },
  {
   "cell_type": "markdown",
   "metadata": {},
   "source": [
    "PREPARE DATA"
   ]
  },
  {
   "cell_type": "code",
   "execution_count": 6,
   "metadata": {},
   "outputs": [],
   "source": [
    "txt1 = open(\"sentences.txt\")\n",
    "lines1 = readlines(txt1)\n",
    "txt2 = open(\"labels.txt\")\n",
    "lines2 = readlines(txt2);"
   ]
  },
  {
   "cell_type": "code",
   "execution_count": 7,
   "metadata": {},
   "outputs": [],
   "source": [
    "all_sentences = (x -> split(x)).(lines1);\n",
    "all_sentences = [(x -> lowercase(x)).(s) for s in all_sentences];"
   ]
  },
  {
   "cell_type": "code",
   "execution_count": 8,
   "metadata": {},
   "outputs": [],
   "source": [
    "train_sentences = all_sentences[1:8534]\n",
    "test_sentences = all_sentences[8535:10744]\n",
    "val_sentences = all_sentences[10745:11844];"
   ]
  },
  {
   "cell_type": "code",
   "execution_count": 9,
   "metadata": {},
   "outputs": [],
   "source": [
    "train_labels = lines2[1:8534]\n",
    "test_labels = lines2[8535:10744]\n",
    "val_labels = lines2[10745:11844]\n",
    "train_labels = (x -> parse(Float32, x)).(train_labels);"
   ]
  },
  {
   "cell_type": "code",
   "execution_count": 10,
   "metadata": {},
   "outputs": [
    {
     "data": {
      "text/plain": [
       "mapstring (generic function with 1 method)"
      ]
     },
     "execution_count": 10,
     "metadata": {},
     "output_type": "execute_result"
    }
   ],
   "source": [
    "function mapfloat(label)\n",
    "    if (0 <= label < 0.5); return 1; end;\n",
    "    if (0.5 < label <= 1.0); return 2; end;\n",
    "end\n",
    "function mapstring(p)\n",
    "    if p == \"neg\" || p == \"very neg\"; return 1; end;\n",
    "    if p == \"pos\" || p == \"very pos\"; return 2; end;\n",
    "end"
   ]
  },
  {
   "cell_type": "code",
   "execution_count": 11,
   "metadata": {},
   "outputs": [],
   "source": [
    "train_sentences2 = []\n",
    "train_labels2 = []\n",
    "test_sentences2 = []\n",
    "test_labels2 = []\n",
    "val_sentences2 = []\n",
    "val_labels2 = [];"
   ]
  },
  {
   "cell_type": "code",
   "execution_count": 12,
   "metadata": {},
   "outputs": [],
   "source": [
    "for i in 1:8534\n",
    "    if train_labels[i] != 0.5\n",
    "        push!(train_labels2, mapfloat(train_labels[i]))\n",
    "        push!(train_sentences2, train_sentences[i])\n",
    "    end\n",
    "end\n",
    "\n",
    "for i in 1:2210\n",
    "    if test_labels[i] != \"neu\"\n",
    "        push!(test_labels2, mapstring(test_labels[i]))\n",
    "        push!(test_sentences2, test_sentences[i])\n",
    "    end\n",
    "end        \n",
    "\n",
    "for i in 1:1100\n",
    "    if val_labels[i] != \"neu\"\n",
    "        push!(val_labels2, mapstring(val_labels[i]))\n",
    "        push!(val_sentences2, val_sentences[i])\n",
    "    end\n",
    "end"
   ]
  },
  {
   "cell_type": "code",
   "execution_count": 13,
   "metadata": {},
   "outputs": [
    {
     "data": {
      "text/plain": [
       "(8534, 2210, 1100)"
      ]
     },
     "execution_count": 13,
     "metadata": {},
     "output_type": "execute_result"
    }
   ],
   "source": [
    "length(train_sentences), length(test_sentences), length(val_sentences)"
   ]
  },
  {
   "cell_type": "code",
   "execution_count": 14,
   "metadata": {},
   "outputs": [
    {
     "data": {
      "text/plain": [
       "(8328, 1821, 872)"
      ]
     },
     "execution_count": 14,
     "metadata": {},
     "output_type": "execute_result"
    }
   ],
   "source": [
    "length(train_sentences2), length(test_sentences2), length(val_sentences2)"
   ]
  },
  {
   "cell_type": "code",
   "execution_count": 15,
   "metadata": {},
   "outputs": [],
   "source": [
    "train_sentences2 = vcat(train_sentences2, val_sentences2)\n",
    "train_labels2 = vcat(train_labels2, val_labels2);\n",
    "train_labels2 = hcat(train_labels2)[:,1]\n",
    "test_labels2 = hcat(test_labels2)[:,1];"
   ]
  },
  {
   "cell_type": "code",
   "execution_count": 16,
   "metadata": {},
   "outputs": [
    {
     "data": {
      "text/plain": [
       "(9200, 1821, 872)"
      ]
     },
     "execution_count": 16,
     "metadata": {},
     "output_type": "execute_result"
    }
   ],
   "source": [
    "length(train_sentences2), length(test_sentences2), length(val_sentences2)"
   ]
  },
  {
   "cell_type": "code",
   "execution_count": 17,
   "metadata": {},
   "outputs": [],
   "source": [
    "vocab = []\n",
    "for sentence in all_sentences\n",
    "    for word in sentence\n",
    "        if !(word in vocab); push!(vocab, word);end\n",
    "    end\n",
    "end\n",
    "push!(vocab, \"UNK\");"
   ]
  },
  {
   "cell_type": "code",
   "execution_count": 18,
   "metadata": {},
   "outputs": [],
   "source": [
    "w2i = Dict()\n",
    "i2w = Dict()\n",
    "dictindex = 1\n",
    "for word in vocab\n",
    "    w2i[word] = dictindex\n",
    "    i2w[dictindex] = word\n",
    "    dictindex+=1\n",
    "end\n",
    "w2i[\"UNK\"] = 19507\n",
    "i2w[19507] = \"UNK\";"
   ]
  },
  {
   "cell_type": "code",
   "execution_count": 19,
   "metadata": {},
   "outputs": [],
   "source": [
    "train_sentences2 = [(x -> w2i[x]).(s) for s in train_sentences2];\n",
    "test_sentences2 = [(x -> w2i[x]).(s) for s in test_sentences2];\n",
    "all_sentences = [(x -> w2i[x]).(s) for s in all_sentences];"
   ]
  },
  {
   "cell_type": "code",
   "execution_count": 20,
   "metadata": {},
   "outputs": [
    {
     "data": {
      "text/plain": [
       "2×1 Array{Int64,2}:\n",
       " 1804\n",
       "   54"
      ]
     },
     "execution_count": 20,
     "metadata": {},
     "output_type": "execute_result"
    }
   ],
   "source": [
    "function strings_to_indices(s)\n",
    "    s = split(s)\n",
    "    out = []\n",
    "    for word in s\n",
    "        word = lowercase(word)\n",
    "        if !(word in vocab)\n",
    "            word = w2i[\"UNK\"]\n",
    "        end\n",
    "        push!(out, w2i[word])\n",
    "    end\n",
    "    hcat(out)\n",
    "end\n",
    "\n",
    "strings_to_indices(\"hey there\")"
   ]
  },
  {
   "cell_type": "code",
   "execution_count": 21,
   "metadata": {},
   "outputs": [],
   "source": [
    "maxlength = 56\n",
    "for sentence in train_sentences2\n",
    "    while length(sentence) != maxlength\n",
    "        pushfirst!(sentence, w2i[\"UNK\"])\n",
    "    end\n",
    "end"
   ]
  },
  {
   "cell_type": "code",
   "execution_count": 22,
   "metadata": {},
   "outputs": [],
   "source": [
    "maxlength = 56\n",
    "for sentence in test_sentences2\n",
    "    while length(sentence) != maxlength\n",
    "        pushfirst!(sentence,w2i[\"UNK\"])\n",
    "    end\n",
    "end"
   ]
  },
  {
   "cell_type": "code",
   "execution_count": 23,
   "metadata": {},
   "outputs": [
    {
     "data": {
      "text/latex": [
       "\\begin{verbatim}\n",
       "xavier(a...)\n",
       "\\end{verbatim}\n",
       "Xavier initialization returns uniform random weights in the range \\texttt{±sqrt(2 / (fanin + fanout))}.  The \\texttt{a} arguments are passed to \\texttt{rand}.  See (\\href{http://jmlr.org/proceedings/papers/v9/glorot10a/glorot10a.pdf}{Glorot and Bengio 2010}) for a description. \\href{http://caffe.berkeleyvision.org/doxygen/classcaffe_1_1XavierFiller.html#details}{Caffe} implements this slightly differently. \\href{http://lasagne.readthedocs.org/en/latest/modules/init.html#lasagne.init.GlorotUniform}{Lasagne} calls it \\texttt{GlorotUniform}.\n",
       "\n"
      ],
      "text/markdown": [
       "```\n",
       "xavier(a...)\n",
       "```\n",
       "\n",
       "Xavier initialization returns uniform random weights in the range `±sqrt(2 / (fanin + fanout))`.  The `a` arguments are passed to `rand`.  See ([Glorot and Bengio 2010](http://jmlr.org/proceedings/papers/v9/glorot10a/glorot10a.pdf)) for a description. [Caffe](http://caffe.berkeleyvision.org/doxygen/classcaffe_1_1XavierFiller.html#details) implements this slightly differently. [Lasagne](http://lasagne.readthedocs.org/en/latest/modules/init.html#lasagne.init.GlorotUniform) calls it `GlorotUniform`.\n"
      ],
      "text/plain": [
       "\u001b[36m  xavier(a...)\u001b[39m\n",
       "\n",
       "  Xavier initialization returns uniform random weights in the range \u001b[36m±sqrt(2 /\n",
       "  (fanin + fanout))\u001b[39m. The \u001b[36ma\u001b[39m arguments are passed to \u001b[36mrand\u001b[39m. See (Glorot and\n",
       "  Bengio 2010 (http://jmlr.org/proceedings/papers/v9/glorot10a/glorot10a.pdf))\n",
       "  for a description. Caffe\n",
       "  (http://caffe.berkeleyvision.org/doxygen/classcaffe_1_1XavierFiller.html#details)\n",
       "  implements this slightly differently. Lasagne\n",
       "  (http://lasagne.readthedocs.org/en/latest/modules/init.html#lasagne.init.GlorotUniform)\n",
       "  calls it \u001b[36mGlorotUniform\u001b[39m."
      ]
     },
     "execution_count": 23,
     "metadata": {},
     "output_type": "execute_result"
    }
   ],
   "source": [
    "@doc xavier"
   ]
  },
  {
   "cell_type": "code",
   "execution_count": 24,
   "metadata": {},
   "outputs": [],
   "source": [
    "embedmatrix = []\n",
    "no_embeddings = []\n",
    "count = 0\n",
    "for word in vocab\n",
    "    if word in keys(embeddingdict)\n",
    "        wordvector = (x-> parse(Float32, x)).(split(lines[embeddingdict[word]])[2:301])\n",
    "        count += 1\n",
    "    else\n",
    "        wordvector = xavier(Float32, 300)\n",
    "        push!(no_embeddings, (word, wordvector))\n",
    "    end\n",
    "    push!(embedmatrix, hcat(wordvector))\n",
    "end"
   ]
  },
  {
   "cell_type": "code",
   "execution_count": 25,
   "metadata": {},
   "outputs": [],
   "source": [
    "embedmatrix = hcat(embedmatrix...);"
   ]
  },
  {
   "cell_type": "code",
   "execution_count": 26,
   "metadata": {},
   "outputs": [
    {
     "data": {
      "text/plain": [
       "(300, 19507)"
      ]
     },
     "execution_count": 26,
     "metadata": {},
     "output_type": "execute_result"
    }
   ],
   "source": [
    "size(embedmatrix)"
   ]
  },
  {
   "cell_type": "code",
   "execution_count": 27,
   "metadata": {},
   "outputs": [
    {
     "name": "stdout",
     "output_type": "stream",
     "text": [
      "18593 out of 19507 words are in Stanford Glove Embeddings. The rest is initialized randomly.\n"
     ]
    }
   ],
   "source": [
    "println(count, \" out of \", length(vocab), \" words are in Stanford Glove Embeddings. The rest is initialized randomly.\")"
   ]
  },
  {
   "cell_type": "code",
   "execution_count": 28,
   "metadata": {},
   "outputs": [
    {
     "data": {
      "text/plain": [
       "56"
      ]
     },
     "execution_count": 28,
     "metadata": {},
     "output_type": "execute_result"
    }
   ],
   "source": [
    "#Hyperparameters of the Model\n",
    "BATCHSIZE=5               # Number of instances in a minibatch\n",
    "EMBEDSIZE=300             # Word embedding size\n",
    "NUMHIDDEN=100             # Hidden layer size\n",
    "MAXLEN=150                # maximum size of the word sequence, pad shorter sequences, truncate longer ones\n",
    "VOCABSIZE=length(vocab)   # maximum vocabulary size, keep the most frequent 30K, map the rest to UNK token\n",
    "NUMCLASS=2                # number of output classes\n",
    "DROPOUT=0.5               # Dropout rate\n",
    "LR=0.002                  # Learning rate\n",
    "BETA_1=0.9                # Adam optimization parameter\n",
    "BETA_2=0.999              # Adam optimization parameter\n",
    "EPS=1e-08                 # Adam optimization parameter\n",
    "MAXLENGTH = 56            # Used for padding"
   ]
  },
  {
   "cell_type": "code",
   "execution_count": 29,
   "metadata": {},
   "outputs": [
    {
     "data": {
      "text/plain": [
       "(1840, 364)"
      ]
     },
     "execution_count": 29,
     "metadata": {},
     "output_type": "execute_result"
    }
   ],
   "source": [
    "dtrn = minibatch(train_sentences2, train_labels2,BATCHSIZE;shuffle=true)\n",
    "dtst = minibatch(test_sentences2, test_labels2 ,BATCHSIZE)\n",
    "length(dtrn), length(dtst)"
   ]
  },
  {
   "cell_type": "code",
   "execution_count": 30,
   "metadata": {},
   "outputs": [],
   "source": [
    "#model struct\n",
    "mutable struct LSTMN\n",
    "    embeds\n",
    "    lstm\n",
    "    output\n",
    "    pdrop\n",
    "    Wh\n",
    "    Wx\n",
    "    Whh\n",
    "    memory_tape\n",
    "    hidden_tape\n",
    "end"
   ]
  },
  {
   "cell_type": "code",
   "execution_count": 31,
   "metadata": {},
   "outputs": [
    {
     "data": {
      "text/plain": [
       "LSTMN"
      ]
     },
     "execution_count": 31,
     "metadata": {},
     "output_type": "execute_result"
    }
   ],
   "source": [
    "#model constructor\n",
    "function LSTMN(input::Int, embed::Int, hidden::Int, output::Int; pdrop=0)\n",
    "    embeds = param(KnetArray(embedmatrix))\n",
    "    lstm = RNN(embed,hidden)\n",
    "    output = param(output, hidden)\n",
    "    #lstm.h = KnetArray(zeros(Float32, 100,5))\n",
    "    #lstm.c = KnetArray(zeros(Float32, 100,5))\n",
    "    Wh = param(KnetArray(xavier(Float32, 1,100)))\n",
    "    Wx = param(KnetArray(xavier(Float32, 1,300)))\n",
    "    Whh = param(KnetArray(xavier(Float32, 1,100)))\n",
    "    memory_tape = []\n",
    "    hidden_tape = []\n",
    "    LSTMN(embeds, lstm, output, pdrop, Wh, Wx, Whh, memory_tape, hidden_tape)\n",
    "end"
   ]
  },
  {
   "cell_type": "code",
   "execution_count": 32,
   "metadata": {},
   "outputs": [],
   "source": [
    "function (lstmn::LSTMN)(input)\n",
    "    embed = lstmn.embeds[:, permutedims(hcat(input...))]\n",
    "    embed = dropout(embed,lstmn.pdrop)\n",
    "    \n",
    "    memory_tape = []\n",
    "    hidden_tape = []\n",
    " \n",
    "    xt = embed[:,:,1]\n",
    "    \n",
    "    lstmn.lstm.h = KnetArray(zeros(Float32,100,5))\n",
    "    lstmn.lstm.c = KnetArray(zeros(Float32,100,5))\n",
    "    ht = lstmn.lstm.h\n",
    "    ct = lstmn.lstm.c[:,:,1]\n",
    "    hprev = ht\n",
    "    \n",
    "    xt = embed[:,:,1]\n",
    "    ht = lstmn.lstm(xt)\n",
    "    ct = lstmn.lstm.c[:,:,1]\n",
    "    \n",
    "    push!(hidden_tape, ht)\n",
    "    push!(memory_tape, ct)\n",
    "    \n",
    "    for t in 2:56\n",
    "        xt = embed[:,:,t]\n",
    "        ht = lstmn.lstm.h \n",
    "        ct = lstmn.lstm.c \n",
    "        \n",
    "        h = hcat(hidden_tape[1:t-1]...)\n",
    "        c = hcat(memory_tape[1:t-1]...)\n",
    "    \n",
    "        dot1 = lstmn.Wh * h\n",
    "        dot1 = reshape(dot1, (t-1), 5)\n",
    "        \n",
    "        dot2 = lstmn.Wx * xt        \n",
    "\n",
    "        dot3 = lstmn.Whh * hprev\n",
    "        \n",
    "        at = tanh.(dot1 .+ dot2 .+ dot3) \n",
    "        \n",
    "        soft = softmax(at; dims=1)\n",
    "        soft = reshape(soft, 5*(t-1))\n",
    "        \n",
    "        new_h = soft .* (h')\n",
    "        new_h = reshape(new_h, 5, (t-1), 100)\n",
    "        new_h = sum(new_h; dims = 2)\n",
    "        new_h = reshape(new_h, 5,100)\n",
    "        new_h = new_h'\n",
    "                \n",
    "        hprev = new_h\n",
    "        \n",
    "        new_c = soft .* (c')\n",
    "        new_c = reshape(new_c, 5, (t-1), 100)\n",
    "        new_c = sum(new_c; dims = 2)\n",
    "        new_c = reshape(new_c, 5,100)\n",
    "        new_c = new_c'\n",
    "    \n",
    "        lstmn.lstm.h = reshape(new_h, 100, 5, 1)\n",
    "        lstmn.lstm.c = reshape(new_c, 100, 5, 1)\n",
    "        \n",
    "        ht = lstmn.lstm(xt)\n",
    "        ct = lstmn.lstm.c[:,:,1]\n",
    "        \n",
    "        push!(hidden_tape, ht)\n",
    "        push!(memory_tape, ct)\n",
    "    end\n",
    "\n",
    "    hidden = dropout(ht,lstmn.pdrop)\n",
    "    return lstmn.output * hidden    \n",
    "end\n",
    "\n",
    "#model(input,output)\n",
    "(l::LSTMN)(input,output) = nll(l(input),output)\n",
    "#model(data)\n",
    "(l::LSTMN)(d::Knet.Data) = Knet.mean(l(x,y) for (x,y) in d)"
   ]
  },
  {
   "cell_type": "code",
   "execution_count": 33,
   "metadata": {},
   "outputs": [],
   "source": [
    "model = LSTMN(VOCABSIZE,EMBEDSIZE,NUMHIDDEN,NUMCLASS,pdrop=DROPOUT);"
   ]
  },
  {
   "cell_type": "code",
   "execution_count": 34,
   "metadata": {},
   "outputs": [
    {
     "data": {
      "text/plain": [
       "0.6965291f0"
      ]
     },
     "execution_count": 34,
     "metadata": {},
     "output_type": "execute_result"
    }
   ],
   "source": [
    "x1, y1 = first(dtrn)\n",
    "model(x1,y1)"
   ]
  },
  {
   "cell_type": "code",
   "execution_count": 35,
   "metadata": {},
   "outputs": [
    {
     "name": "stdout",
     "output_type": "stream",
     "text": [
      "typeof(grad(J1, p)) = KnetArray{Float32,2}\n",
      "typeof(grad(J1, p)) = KnetArray{Float32,3}\n",
      "typeof(grad(J1, p)) = KnetArray{Float32,2}\n",
      "typeof(grad(J1, p)) = KnetArray{Float32,2}\n",
      "typeof(grad(J1, p)) = KnetArray{Float32,2}\n",
      "typeof(grad(J1, p)) = KnetArray{Float32,2}\n"
     ]
    }
   ],
   "source": [
    "J1 = @diff model(x1,y1)\n",
    "for p in params(model)\n",
    "    @show typeof(grad(J1, p))\n",
    "end"
   ]
  },
  {
   "cell_type": "code",
   "execution_count": 36,
   "metadata": {},
   "outputs": [
    {
     "data": {
      "text/plain": [
       "fasttrain! (generic function with 2 methods)"
      ]
     },
     "execution_count": 36,
     "metadata": {},
     "output_type": "execute_result"
    }
   ],
   "source": [
    "models = []\n",
    "function fasttrain!(lstmn::LSTMN, dtrn, dtst, max_iters=500)\n",
    "    a = adam(lstmn, take(cycle(dtrn), max_iters+1);lr=LR,beta1=BETA_1,beta2=BETA_2,eps=EPS)\n",
    "    progress!(a)\n",
    "    push!(models, lstmn)\n",
    "end            "
   ]
  },
  {
   "cell_type": "code",
   "execution_count": 37,
   "metadata": {},
   "outputs": [
    {
     "data": {
      "text/plain": [
       "trainuntil! (generic function with 2 methods)"
      ]
     },
     "execution_count": 37,
     "metadata": {},
     "output_type": "execute_result"
    }
   ],
   "source": [
    "function trainuntil!(lstmn::LSTMN, dtrn, dtst, until=0.85)\n",
    "    acc = accuracy(model, dtst)\n",
    "    iter = 30\n",
    "    while (acc < until)\n",
    "        if acc < 0.809; iter = 30; end\n",
    "        if acc >= 0.809; iter = 3; end\n",
    "        fasttrain!(lstmn, dtrn, dtst, iter)\n",
    "        acc = accuracy(model, dtst)\n",
    "        println(acc)\n",
    "    end\n",
    "    acc\n",
    "end"
   ]
  },
  {
   "cell_type": "code",
   "execution_count": 38,
   "metadata": {},
   "outputs": [
    {
     "data": {
      "text/plain": [
       "besttrain! (generic function with 2 methods)"
      ]
     },
     "execution_count": 38,
     "metadata": {},
     "output_type": "execute_result"
    }
   ],
   "source": [
    "function besttrain!(lstmn::LSTMN, dtrn, dtst, max_iter=100)\n",
    "    best_acc = 0\n",
    "    best_model = model\n",
    "    acc = accuracy(model, dtst)\n",
    "    i = 0\n",
    "    while (i < max_iter)\n",
    "        fasttrain!(lstmn, dtrn, dtst,10)\n",
    "        acc = accuracy(model, dtst)\n",
    "        if(acc > best_acc)\n",
    "            best_model = model\n",
    "            best_acc = acc\n",
    "        end\n",
    "        println(\"current accurancy:\", acc, \"best accuracy:\", best_acc)\n",
    "        i+=1\n",
    "    end\n",
    "    best_model\n",
    "end"
   ]
  },
  {
   "cell_type": "markdown",
   "metadata": {},
   "source": [
    "Make sure you download the weights from my github:\n",
    "https://github.com/egeersu/LSTMN/tree/master/weights"
   ]
  },
  {
   "cell_type": "code",
   "execution_count": 39,
   "metadata": {},
   "outputs": [
    {
     "data": {
      "text/plain": [
       "Dict{String,Any} with 6 entries:\n",
       "  \"lstm\"   => LSTM(input=300,hidden=100)\n",
       "  \"Wh\"     => P(KnetArray{Float32,2}(1,100))\n",
       "  \"output\" => P(KnetArray{Float32,2}(2,100))\n",
       "  \"embeds\" => P(KnetArray{Float32,2}(300,19507))\n",
       "  \"Whh\"    => P(KnetArray{Float32,2}(1,100))\n",
       "  \"Wx\"     => P(KnetArray{Float32,2}(1,300))"
      ]
     },
     "execution_count": 39,
     "metadata": {},
     "output_type": "execute_result"
    }
   ],
   "source": [
    "bestd = Knet.load(\"lstmn-knet.jld2?raw=true\")"
   ]
  },
  {
   "cell_type": "code",
   "execution_count": 40,
   "metadata": {},
   "outputs": [
    {
     "data": {
      "text/plain": [
       "P(KnetArray{Float32,2}(1,300))"
      ]
     },
     "execution_count": 40,
     "metadata": {},
     "output_type": "execute_result"
    }
   ],
   "source": [
    "model.lstm = bestd[\"lstm\"]\n",
    "model.Wh = bestd[\"Wh\"]\n",
    "model.output = bestd[\"output\"]\n",
    "model.embeds = bestd[\"embeds\"]\n",
    "model.Whh = bestd[\"Whh\"]\n",
    "model.Wx = bestd[\"Wx\"]"
   ]
  },
  {
   "cell_type": "code",
   "execution_count": 42,
   "metadata": {},
   "outputs": [
    {
     "data": {
      "text/plain": [
       "predict (generic function with 1 method)"
      ]
     },
     "execution_count": 42,
     "metadata": {},
     "output_type": "execute_result"
    }
   ],
   "source": [
    "function predict(input)\n",
    "    input = split(lowercase.(input))\n",
    "    for i in 1:length(input) \n",
    "        if !(input[i] in vocab)\n",
    "            input[i] = \"UNK\"\n",
    "        end\n",
    "    end\n",
    "    input = (i->w2i[i]).(input)\n",
    "    while length(input) != maxlength\n",
    "        pushfirst!(input, w2i[\"UNK\"])\n",
    "    end\n",
    "    toybatch = [input]\n",
    "    push!(toybatch, ones(56))\n",
    "    push!(toybatch, ones(56))\n",
    "    push!(toybatch, ones(56))\n",
    "    push!(toybatch, ones(56))\n",
    "    r = argmax(Array(model(toybatch)), dims=1)[1][1]\n",
    "    [\"negative\", \"positive\"][r]\n",
    "end"
   ]
  },
  {
   "cell_type": "markdown",
   "metadata": {},
   "source": [
    "The LSTMN seems to take \"but\" into account"
   ]
  },
  {
   "cell_type": "code",
   "execution_count": 43,
   "metadata": {},
   "outputs": [
    {
     "data": {
      "text/plain": [
       "\"negative\""
      ]
     },
     "execution_count": 43,
     "metadata": {},
     "output_type": "execute_result"
    }
   ],
   "source": [
    "userinput = \"the acting was good but the script and everything else was terrible\"\n",
    "predict(userinput)"
   ]
  },
  {
   "cell_type": "code",
   "execution_count": 44,
   "metadata": {},
   "outputs": [
    {
     "data": {
      "text/plain": [
       "\"positive\""
      ]
     },
     "execution_count": 44,
     "metadata": {},
     "output_type": "execute_result"
    }
   ],
   "source": [
    "userinput = \"looks bad at first but it is actually good\"\n",
    "predict(userinput)"
   ]
  },
  {
   "cell_type": "markdown",
   "metadata": {},
   "source": [
    "The LSTMN does not 'understand' what \"not\" does"
   ]
  },
  {
   "cell_type": "code",
   "execution_count": 45,
   "metadata": {},
   "outputs": [
    {
     "data": {
      "text/plain": [
       "\"positive\""
      ]
     },
     "execution_count": 45,
     "metadata": {},
     "output_type": "execute_result"
    }
   ],
   "source": [
    "userinput = \"this is a good film\"\n",
    "predict(userinput)"
   ]
  },
  {
   "cell_type": "code",
   "execution_count": 46,
   "metadata": {},
   "outputs": [
    {
     "data": {
      "text/plain": [
       "\"positive\""
      ]
     },
     "execution_count": 46,
     "metadata": {},
     "output_type": "execute_result"
    }
   ],
   "source": [
    "userinput = \"this is not a good film\"\n",
    "predict(userinput)"
   ]
  },
  {
   "cell_type": "code",
   "execution_count": 47,
   "metadata": {},
   "outputs": [
    {
     "data": {
      "text/plain": [
       "\"negative\""
      ]
     },
     "execution_count": 47,
     "metadata": {},
     "output_type": "execute_result"
    }
   ],
   "source": [
    "userinput = \"this film was a disaster\"\n",
    "predict(userinput)"
   ]
  },
  {
   "cell_type": "code",
   "execution_count": 48,
   "metadata": {},
   "outputs": [
    {
     "data": {
      "text/plain": [
       "\"negative\""
      ]
     },
     "execution_count": 48,
     "metadata": {},
     "output_type": "execute_result"
    }
   ],
   "source": [
    "userinput = \"this film was not a disaster\"\n",
    "predict(userinput)"
   ]
  },
  {
   "cell_type": "markdown",
   "metadata": {},
   "source": [
    "Here you can try your own inputs!"
   ]
  },
  {
   "cell_type": "code",
   "execution_count": 62,
   "metadata": {},
   "outputs": [
    {
     "name": "stdout",
     "output_type": "stream",
     "text": [
      "stdin> David Benioff and D.B. Weiss have proven themselves to be woefully incompetent writers when they have no source material (i.e. the books) to fall back on. \n"
     ]
    },
    {
     "data": {
      "text/plain": [
       "\"negative\""
      ]
     },
     "execution_count": 62,
     "metadata": {},
     "output_type": "execute_result"
    }
   ],
   "source": [
    "userinput = readline(stdin)\n",
    "predict(userinput)"
   ]
  }
 ],
 "metadata": {
  "kernelspec": {
   "display_name": "Julia 1.1.0",
   "language": "julia",
   "name": "julia-1.1"
  },
  "language_info": {
   "file_extension": ".jl",
   "mimetype": "application/julia",
   "name": "julia",
   "version": "1.1.0"
  }
 },
 "nbformat": 4,
 "nbformat_minor": 2
}
