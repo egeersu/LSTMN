{
 "cells": [
  {
   "cell_type": "code",
   "execution_count": 2,
   "metadata": {},
   "outputs": [],
   "source": [
    "import JSON\n",
    "using Knet\n",
    "import .Iterators: cycle, Cycle, take, repeat"
   ]
  },
  {
   "cell_type": "code",
   "execution_count": 3,
   "metadata": {},
   "outputs": [
    {
     "data": {
      "text/plain": [
       "IOStream(<file snli_1.0_dev.jsonl>)"
      ]
     },
     "execution_count": 3,
     "metadata": {},
     "output_type": "execute_result"
    }
   ],
   "source": [
    "trn = open(\"snli_1.0_train.jsonl\", \"r\")\n",
    "tst = open(\"snli_1.0_test.jsonl\", \"r\")\n",
    "val = open(\"snli_1.0_dev.jsonl\", \"r\")"
   ]
  },
  {
   "cell_type": "code",
   "execution_count": 4,
   "metadata": {},
   "outputs": [
    {
     "data": {
      "text/plain": [
       "0-element Array{Any,1}"
      ]
     },
     "execution_count": 4,
     "metadata": {},
     "output_type": "execute_result"
    }
   ],
   "source": [
    "tstx1 = []\n",
    "tstx2 = []\n",
    "tsty = []\n",
    "\n",
    "trnx1 = []\n",
    "trnx2 = []\n",
    "trny = []\n",
    "\n",
    "valx1 = []\n",
    "valx2 = []\n",
    "valy = []"
   ]
  },
  {
   "cell_type": "code",
   "execution_count": 5,
   "metadata": {},
   "outputs": [
    {
     "data": {
      "text/plain": [
       "take_best_randomly (generic function with 1 method)"
      ]
     },
     "execution_count": 5,
     "metadata": {},
     "output_type": "execute_result"
    }
   ],
   "source": [
    "function take_best_randomly(x)\n",
    "    n = 0\n",
    "    e = 0\n",
    "    c = 0\n",
    "    for i in x\n",
    "        if i == \"neutral\"; n+=1; end\n",
    "        if i == \"entailment\"; e+=1; end\n",
    "        if i == \"contradiction\"; c+=1; end\n",
    "    end\n",
    "    if n>e; return rand([\"neutral\", \"contradiction\"]); end\n",
    "    if e>c; return rand([\"entailment\", \"neutral\"])\n",
    "    else \n",
    "        return rand([\"entailment\", \"contradiction\"])\n",
    "    end\n",
    "end"
   ]
  },
  {
   "cell_type": "code",
   "execution_count": 6,
   "metadata": {},
   "outputs": [],
   "source": [
    "for i in 1:10000\n",
    "    d1 = JSON.parse(tst)\n",
    "    if d1[\"gold_label\"] == \"-\"; continue; end;\n",
    "    push!(tstx1, d1[\"sentence1\"])\n",
    "    push!(tstx2, d1[\"sentence2\"])\n",
    "    push!(tsty, d1[\"gold_label\"])\n",
    "end\n",
    "\n",
    "for i in 1:10000\n",
    "    d1 = JSON.parse(val)\n",
    "    gold = d1[\"gold_label\"]\n",
    "    if gold == \"-\"; gold = take_best_randomly(d1[\"annotator_labels\"]); end;\n",
    "    push!(valx1, d1[\"sentence1\"])\n",
    "    push!(valx2, d1[\"sentence2\"])\n",
    "    push!(valy, gold)\n",
    "    end\n",
    "\n",
    "\n",
    "for i in 1:550152\n",
    "    d1 = JSON.parse(trn)\n",
    "    gold = d1[\"gold_label\"]\n",
    "    if gold == \"-\"; gold = take_best_randomly(d1[\"annotator_labels\"]); end;\n",
    "    push!(trnx1, d1[\"sentence1\"])\n",
    "    push!(trnx2, d1[\"sentence2\"])\n",
    "    push!(trny, gold)\n",
    "end"
   ]
  },
  {
   "cell_type": "code",
   "execution_count": 7,
   "metadata": {},
   "outputs": [
    {
     "data": {
      "text/plain": [
       "(true, true, true)"
      ]
     },
     "execution_count": 7,
     "metadata": {},
     "output_type": "execute_result"
    }
   ],
   "source": [
    "size(trnx1) == size(trnx2) == size(trny), size(tstx1) == size(tstx2) == size(tsty), size(valx1) == size(valx2) == size(valy)"
   ]
  },
  {
   "cell_type": "code",
   "execution_count": 8,
   "metadata": {},
   "outputs": [],
   "source": [
    "f = open(\"glove.42B.300d.txt\")\n",
    "lines = readlines(f);"
   ]
  },
  {
   "cell_type": "code",
   "execution_count": 9,
   "metadata": {},
   "outputs": [],
   "source": [
    "embeddingdict = Dict()\n",
    "embeddingindex = 1\n",
    "for line in lines\n",
    "    strword = split(line)\n",
    "    strname = strword[1]\n",
    "    embeddingdict[strname] = embeddingindex\n",
    "    embeddingindex+=1\n",
    "end"
   ]
  },
  {
   "cell_type": "code",
   "execution_count": 10,
   "metadata": {},
   "outputs": [],
   "source": [
    "#split strings into lists of words\n",
    "tstx1 = (x -> split(x)).(tstx1)\n",
    "tstx2 = (x -> split(x)).(tstx2)\n",
    "trnx1 = (x -> split(x)).(trnx1)\n",
    "trnx2 = (x -> split(x)).(trnx2)\n",
    "valx1 = (x -> split(x)).(valx1)\n",
    "valx2 = (x -> split(x)).(valx2)\n",
    "#make everything lowercase\n",
    "tstx1 = [(x -> lowercase(x)).(s) for s in tstx1]\n",
    "tstx2 = [(x -> lowercase(x)).(s) for s in tstx2]\n",
    "trnx1 = [(x -> lowercase(x)).(s) for s in trnx1]\n",
    "trnx2 = [(x -> lowercase(x)).(s) for s in trnx2]\n",
    "valx1 = [(x -> lowercase(x)).(s) for s in valx1]\n",
    "valx2 = [(x -> lowercase(x)).(s) for s in valx2];"
   ]
  },
  {
   "cell_type": "code",
   "execution_count": 11,
   "metadata": {},
   "outputs": [],
   "source": [
    "function map_labels(x)\n",
    "    if x == \"entailment\"; return 1; end\n",
    "    if x == \"neutral\"; return 2; end\n",
    "    if x == \"contradiction\"; return 3; end\n",
    "    x\n",
    "end\n",
    "\n",
    "tsty = map_labels.(tsty)\n",
    "trny = map_labels.(trny)\n",
    "valy = map_labels.(valy);"
   ]
  },
  {
   "cell_type": "code",
   "execution_count": 12,
   "metadata": {},
   "outputs": [
    {
     "data": {
      "text/plain": [
       "57364"
      ]
     },
     "execution_count": 12,
     "metadata": {},
     "output_type": "execute_result"
    }
   ],
   "source": [
    "#create vocab\n",
    "vocab = Dict()\n",
    "\n",
    "for sentence in vcat(tstx1,tstx2,trnx1,trnx2,valx1,valx2)\n",
    "    for word in sentence\n",
    "        vocab[word] = 1\n",
    "    end\n",
    "end\n",
    "vocab[\"UNK\"] = 1\n",
    "length(vocab)"
   ]
  },
  {
   "cell_type": "code",
   "execution_count": 13,
   "metadata": {},
   "outputs": [],
   "source": [
    "#create dictionaries \n",
    "w2i = Dict()\n",
    "i2w = Dict()\n",
    "dictindex = 1\n",
    "\n",
    "for word in vocab\n",
    "    w2i[word[1]] = dictindex\n",
    "    i2w[dictindex] = word[1]\n",
    "    dictindex+=1\n",
    "end"
   ]
  },
  {
   "cell_type": "code",
   "execution_count": 14,
   "metadata": {},
   "outputs": [
    {
     "data": {
      "text/plain": [
       "78"
      ]
     },
     "execution_count": 14,
     "metadata": {},
     "output_type": "execute_result"
    }
   ],
   "source": [
    "#Find maxlength for padding\n",
    "maxlength = 0\n",
    "for i in vcat(tstx1,tstx2,trnx1,trnx2,valx1,valx2)\n",
    "    if length(i) > maxlength; maxlength = length(i); end;\n",
    "end\n",
    "maxlength"
   ]
  },
  {
   "cell_type": "code",
   "execution_count": 15,
   "metadata": {},
   "outputs": [],
   "source": [
    "#map words to integers\n",
    "tstx1 = [(x -> w2i[x]).(s) for s in tstx1]\n",
    "tstx2 = [(x -> w2i[x]).(s) for s in tstx2]\n",
    "trnx1 = [(x -> w2i[x]).(s) for s in trnx1]\n",
    "trnx2 = [(x -> w2i[x]).(s) for s in trnx2]\n",
    "valx1 = [(x -> w2i[x]).(s) for s in valx1]\n",
    "valx2 = [(x -> w2i[x]).(s) for s in valx2];"
   ]
  },
  {
   "cell_type": "code",
   "execution_count": 16,
   "metadata": {},
   "outputs": [],
   "source": [
    "#PADDING\n",
    "for sentence in vcat(tstx1,tstx2,trnx1,trnx2,valx1,valx2)\n",
    "    while length(sentence) != maxlength\n",
    "        pushfirst!(sentence,w2i[\"UNK\"])\n",
    "    end\n",
    "end"
   ]
  },
  {
   "cell_type": "code",
   "execution_count": 17,
   "metadata": {},
   "outputs": [],
   "source": [
    "#note to self: word is (word, 1) so take [1]\n",
    "embedmatrix = []\n",
    "no_embeddings = []\n",
    "count = 0\n",
    "for word in vocab\n",
    "    if word[1] in keys(embeddingdict)\n",
    "        wordvector = (x-> parse(Float32, x)).(split(lines[embeddingdict[word[1]]])[2:301])\n",
    "        count += 1\n",
    "    else\n",
    "        wordvector = xavier(Float32, 300)\n",
    "        push!(no_embeddings, (word[1], wordvector))\n",
    "    end\n",
    "    push!(embedmatrix, hcat(wordvector))\n",
    "end"
   ]
  },
  {
   "cell_type": "code",
   "execution_count": 18,
   "metadata": {},
   "outputs": [],
   "source": [
    "embedmatrix = hcat(embedmatrix...);"
   ]
  },
  {
   "cell_type": "code",
   "execution_count": 19,
   "metadata": {},
   "outputs": [
    {
     "data": {
      "text/plain": [
       "(300, 57364)"
      ]
     },
     "execution_count": 19,
     "metadata": {},
     "output_type": "execute_result"
    }
   ],
   "source": [
    "size(embedmatrix)"
   ]
  },
  {
   "cell_type": "code",
   "execution_count": 20,
   "metadata": {},
   "outputs": [
    {
     "name": "stdout",
     "output_type": "stream",
     "text": [
      "33319 out of 57364 words are in Stanford Glove Embeddings. The rest is initialized randomly with xavier.\n"
     ]
    }
   ],
   "source": [
    "println(count, \" out of \", length(vocab), \" words are in Stanford Glove Embeddings. The rest is initialized randomly with xavier.\")"
   ]
  },
  {
   "cell_type": "markdown",
   "metadata": {},
   "source": [
    "MODEL"
   ]
  },
  {
   "cell_type": "code",
   "execution_count": 21,
   "metadata": {},
   "outputs": [
    {
     "data": {
      "text/plain": [
       "1.0e-8"
      ]
     },
     "execution_count": 21,
     "metadata": {},
     "output_type": "execute_result"
    }
   ],
   "source": [
    "# Set constants for the model and training\n",
    "EPOCHS=3                  # Number of training epochs\n",
    "BATCHSIZE=16               # Number of instances in a minibatch\n",
    "EMBEDSIZE=300             # Word embedding size\n",
    "NUMHIDDEN=100             # Hidden layer size\n",
    "MAXLEN=150                # maximum size of the word sequence, pad shorter sequences, truncate longer ones\n",
    "VOCABSIZE=length(vocab)   # maximum vocabulary size, keep the most frequent 30K, map the rest to UNK token\n",
    "NUMCLASS=3                # number of output classes\n",
    "DROPOUT=0.5               # Dropout rate\n",
    "LR=0.002                  # Learning rate\n",
    "BETA_1=0.9                # Adam optimization parameter\n",
    "BETA_2=0.999              # Adam optimization parameter\n",
    "EPS=1e-08                 # Adam optimization parameter"
   ]
  },
  {
   "cell_type": "code",
   "execution_count": 22,
   "metadata": {},
   "outputs": [],
   "source": [
    "tstx = []\n",
    "trnx = []\n",
    "valx = []\n",
    "for i in 1:length(tstx1)\n",
    "    push!(tstx, (tstx1[i], tstx2[i]))\n",
    "end\n",
    "for i in 1:length(trnx1)\n",
    "    push!(trnx, (trnx1[i], trnx2[i]))\n",
    "end\n",
    "for i in 1:length(valx1)\n",
    "    push!(valx, (valx1[i], valx2[i]))\n",
    "end"
   ]
  },
  {
   "cell_type": "code",
   "execution_count": 23,
   "metadata": {},
   "outputs": [],
   "source": [
    "dtrn = minibatch(trnx,trny,BATCHSIZE;shuffle=true)\n",
    "dtst = minibatch(tstx,tsty,BATCHSIZE)\n",
    "dval = minibatch(valx,valy,BATCHSIZE);"
   ]
  },
  {
   "cell_type": "code",
   "execution_count": 24,
   "metadata": {},
   "outputs": [],
   "source": [
    "#model struct\n",
    "mutable struct LSTMN\n",
    "    embeds\n",
    "    lstm1\n",
    "    lstm2\n",
    "    Wy\n",
    "    Wh\n",
    "    Wp\n",
    "    Wx\n",
    "    W1\n",
    "    output\n",
    "end"
   ]
  },
  {
   "cell_type": "code",
   "execution_count": 25,
   "metadata": {},
   "outputs": [
    {
     "data": {
      "text/plain": [
       "LSTMN"
      ]
     },
     "execution_count": 25,
     "metadata": {},
     "output_type": "execute_result"
    }
   ],
   "source": [
    "#model constructor\n",
    "function LSTMN(input::Int, embed::Int, hidden::Int, output::Int; pdrop=0)\n",
    "    embeds = param(KnetArray(embedmatrix))\n",
    "    lstm1 = RNN(embed,hidden)\n",
    "    lstm2 = RNN(embed,hidden)\n",
    "    Wy = param(hidden,hidden)\n",
    "    Wh = param(hidden,hidden)\n",
    "    Wp = param(hidden,hidden)\n",
    "    Wx = param(hidden,hidden)\n",
    "    W1 = param(1,hidden)\n",
    "    output = param(output,2*hidden)\n",
    "    LSTMN(embeds, lstm1, lstm2, Wy, Wh, Wp, Wx, W1, output)\n",
    "end"
   ]
  },
  {
   "cell_type": "code",
   "execution_count": 26,
   "metadata": {},
   "outputs": [],
   "source": [
    "function(lstmn::LSTMN)(input)\n",
    "    input1 = (x->x[1]).(input)\n",
    "    input2 = (x->x[2]).(input)\n",
    "    \n",
    "    lstmn.lstm1.h = 0\n",
    "    lstmn.lstm1.c = 0\n",
    "    lstmn.lstm2.h = 0\n",
    "    lstmn.lstm2.c = 0\n",
    "    \n",
    "    embed1 = lstmn.embeds[:, permutedims(hcat(input1...))]\n",
    "    embed1 = dropout(embed1, rand([0.1,0.2,0.3,0.4]))\n",
    "    hidden1 = lstmn.lstm1(embed1)\n",
    "    hidden1 = dropout(hidden1, rand([0.1,0.2,0.3,0.4]))\n",
    "        \n",
    "    lstmn.lstm2.h = lstmn.lstm1.h\n",
    "    lstmn.lstm2.c = lstmn.lstm1.c\n",
    "\n",
    "    embed2 = lstmn.embeds[:, permutedims(hcat(input2...))]\n",
    "    embed2 = dropout(embed2, rand([0.1,0.2,0.3,0.4]))\n",
    "    hidden2 = lstmn.lstm2(embed2)\n",
    "    hidden2 = dropout(hidden2, rand([0.1,0.2,0.3,0.4]))\n",
    "    \n",
    "    #(K,K) * (K,B,L) => (K,K) * (K,B*L) = (K,B*L) => reshape => (K,B,L)\n",
    "    Y = reshape(copy(hidden1), NUMHIDDEN, BATCHSIZE*78)\n",
    "    M1 = lstmn.Wy * Y\n",
    "    M1 = reshape(M1, NUMHIDDEN, BATCHSIZE, 78)\n",
    "    M2 = lstmn.Wh * copy(hidden2[:,:,end])\n",
    "    M = M1 .+ M2\n",
    "    \n",
    "    #calculate alfa\n",
    "    # reshape M (100,16,78) -> (100, 16*78)\n",
    "    M = reshape(M, NUMHIDDEN, BATCHSIZE*78)\n",
    "    alfa = lstmn.W1 * M\n",
    "    alfa = reshape(alfa, BATCHSIZE, 78)\n",
    "    alfa = softmax(alfa; dims=1)\n",
    "   \n",
    "    Y = reshape(copy(hidden1), NUMHIDDEN*BATCHSIZE, 78)\n",
    "    r = Y * alfa'\n",
    "    #println(\"output:\", size(lstmn.output))\n",
    "    #println(\"vcat:\", size(vcat(hidden1[:,:,end], hidden2[:,:,end]))) \n",
    "    #println(\"final output:\", size(lstmn.output * vcat(hidden1[:,:,end], hidden2[:,:,end])))\n",
    "    return lstmn.output * vcat(hidden1[:,:,end], hidden2[:,:,end])\n",
    "end\n",
    "\n",
    "(l::LSTMN)(input,output) = nll(l(input), vcat(output...))\n",
    "(l::LSTMN)(d::Knet.Data) = Knet.mean(l(x,y) for (x,y) in d)"
   ]
  },
  {
   "cell_type": "code",
   "execution_count": 27,
   "metadata": {},
   "outputs": [
    {
     "data": {
      "text/plain": [
       "LSTMN(P(KnetArray{Float32,2}(300,57364)), LSTM(input=300,hidden=100), LSTM(input=300,hidden=100), P(KnetArray{Float32,2}(100,100)), P(KnetArray{Float32,2}(100,100)), P(KnetArray{Float32,2}(100,100)), P(KnetArray{Float32,2}(100,100)), P(KnetArray{Float32,2}(1,100)), P(KnetArray{Float32,2}(3,200)))"
      ]
     },
     "execution_count": 27,
     "metadata": {},
     "output_type": "execute_result"
    }
   ],
   "source": [
    "model = LSTMN(VOCABSIZE,EMBEDSIZE,NUMHIDDEN,NUMCLASS,pdrop=DROPOUT)"
   ]
  },
  {
   "cell_type": "code",
   "execution_count": 28,
   "metadata": {},
   "outputs": [
    {
     "data": {
      "text/plain": [
       "1.0956736f0"
      ]
     },
     "execution_count": 28,
     "metadata": {},
     "output_type": "execute_result"
    }
   ],
   "source": [
    "x1, y1 = first(dtrn)\n",
    "model(x1,y1)"
   ]
  },
  {
   "cell_type": "code",
   "execution_count": 29,
   "metadata": {},
   "outputs": [
    {
     "data": {
      "text/plain": [
       "Dict{String,Any} with 9 entries:\n",
       "  \"lstm2\"  => LSTM(input=300,hidden=100)\n",
       "  \"Wh\"     => P(KnetArray{Float32,2}(100,100))\n",
       "  \"Wp\"     => P(KnetArray{Float32,2}(100,100))\n",
       "  \"embeds\" => P(KnetArray{Float32,2}(300,57364))\n",
       "  \"output\" => P(KnetArray{Float32,2}(3,200))\n",
       "  \"Wy\"     => P(KnetArray{Float32,2}(100,100))\n",
       "  \"W1\"     => P(KnetArray{Float32,2}(1,100))\n",
       "  \"lstm1\"  => LSTM(input=300,hidden=100)\n",
       "  \"Wx\"     => P(KnetArray{Float32,2}(100,100))"
      ]
     },
     "execution_count": 29,
     "metadata": {},
     "output_type": "execute_result"
    }
   ],
   "source": [
    "bestd = Knet.load(\"inference-weights.jld2\")"
   ]
  },
  {
   "cell_type": "code",
   "execution_count": 30,
   "metadata": {},
   "outputs": [
    {
     "data": {
      "text/plain": [
       "P(KnetArray{Float32,2}(1,100))"
      ]
     },
     "execution_count": 30,
     "metadata": {},
     "output_type": "execute_result"
    }
   ],
   "source": [
    "model.lstm1 = bestd[\"lstm1\"]\n",
    "model.lstm2 = bestd[\"lstm2\"]\n",
    "model.output = bestd[\"output\"]\n",
    "model.embeds = bestd[\"embeds\"]\n",
    "model.Wh = bestd[\"Wh\"]\n",
    "model.Wy = bestd[\"Wy\"]\n",
    "model.Wx = bestd[\"Wx\"]\n",
    "model.Wp = bestd[\"Wp\"]\n",
    "model.W1 = bestd[\"W1\"]"
   ]
  },
  {
   "cell_type": "code",
   "execution_count": 31,
   "metadata": {},
   "outputs": [
    {
     "name": "stdout",
     "output_type": "stream",
     "text": [
      " 24.369821 seconds (1.87 M allocations: 123.581 MiB, 79.45% gc time)\n"
     ]
    },
    {
     "data": {
      "text/plain": [
       "0.8358102605863192"
      ]
     },
     "execution_count": 31,
     "metadata": {},
     "output_type": "execute_result"
    }
   ],
   "source": [
    "@time accuracy(model, dtst)"
   ]
  },
  {
   "cell_type": "code",
   "execution_count": 32,
   "metadata": {},
   "outputs": [
    {
     "data": {
      "text/plain": [
       "predict (generic function with 1 method)"
      ]
     },
     "execution_count": 32,
     "metadata": {},
     "output_type": "execute_result"
    }
   ],
   "source": [
    "function predict(s1, s2)\n",
    "    \n",
    "    s1 = split(lowercase.(s1))\n",
    "    for i in 1:length(s1) \n",
    "        if !(s1[i] in keys(vocab))\n",
    "            s1[i] = \"UNK\"\n",
    "        end\n",
    "    end\n",
    "    \n",
    "    s1 = (i->w2i[i]).(s1)\n",
    "    while length(s1) != maxlength\n",
    "        pushfirst!(s1, w2i[\"UNK\"])\n",
    "    end\n",
    "        \n",
    "    s2 = split(lowercase.(s2))\n",
    "    for i in 1:length(s2) \n",
    "        if !(s2[i] in keys(vocab))\n",
    "            s2[i] = \"UNK\"\n",
    "        end\n",
    "    end\n",
    "    s2 = (i->w2i[i]).(s2)\n",
    "    while length(s2) != maxlength\n",
    "        pushfirst!(s2, w2i[\"UNK\"])\n",
    "    end\n",
    "    \n",
    "    toybatch = [(s1,s2)]\n",
    "    \n",
    "    for i in 1:(BATCHSIZE-1)\n",
    "        push!(toybatch, (ones(maxlength), ones(maxlength)))\n",
    "    end\n",
    "    model(toybatch)                \n",
    "    r = argmax(Array(model(toybatch)), dims=1)[1][1]\n",
    "    [\"entailment\", \"neutral\", \"contradiction\"][r]\n",
    "end"
   ]
  },
  {
   "cell_type": "code",
   "execution_count": 33,
   "metadata": {},
   "outputs": [
    {
     "data": {
      "text/plain": [
       "\"contradiction\""
      ]
     },
     "execution_count": 33,
     "metadata": {},
     "output_type": "execute_result"
    }
   ],
   "source": [
    "predict(\"it is there\", \"it is not there\")"
   ]
  },
  {
   "cell_type": "code",
   "execution_count": 34,
   "metadata": {},
   "outputs": [
    {
     "data": {
      "text/plain": [
       "\"entailment\""
      ]
     },
     "execution_count": 34,
     "metadata": {},
     "output_type": "execute_result"
    }
   ],
   "source": [
    "predict(\"The only red thing is the biggest object in the room\", \"The blue thing is smaller than the red object\")"
   ]
  },
  {
   "cell_type": "code",
   "execution_count": 35,
   "metadata": {},
   "outputs": [
    {
     "data": {
      "text/plain": [
       "\"contradiction\""
      ]
     },
     "execution_count": 35,
     "metadata": {},
     "output_type": "execute_result"
    }
   ],
   "source": [
    "predict(\"the old lady was driving a blue car\", \"the only car on the road was the red one\")"
   ]
  },
  {
   "cell_type": "markdown",
   "metadata": {},
   "source": [
    "Enter two sentences to see how they are related! "
   ]
  },
  {
   "cell_type": "code",
   "execution_count": 38,
   "metadata": {},
   "outputs": [
    {
     "name": "stdout",
     "output_type": "stream",
     "text": [
      "stdin> he wears a blue hat\n",
      "stdin> he wears a red jacket\n"
     ]
    },
    {
     "data": {
      "text/plain": [
       "\"neutral\""
      ]
     },
     "execution_count": 38,
     "metadata": {},
     "output_type": "execute_result"
    }
   ],
   "source": [
    "s1 = readline(stdin)\n",
    "s2 = readline(stdin)\n",
    "predict(s1, s2)"
   ]
  }
 ],
 "metadata": {
  "kernelspec": {
   "display_name": "Julia 1.1.0",
   "language": "julia",
   "name": "julia-1.1"
  },
  "language_info": {
   "file_extension": ".jl",
   "mimetype": "application/julia",
   "name": "julia",
   "version": "1.1.0"
  }
 },
 "nbformat": 4,
 "nbformat_minor": 2
}
