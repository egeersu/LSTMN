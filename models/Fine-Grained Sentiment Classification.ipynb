{
 "cells": [
  {
   "cell_type": "code",
   "execution_count": 1,
   "metadata": {},
   "outputs": [],
   "source": [
    "using Knet\n",
    "import Base: length, size, iterate, eltype, IteratorSize, IteratorEltype, haslength, @propagate_inbounds, repeat, rand, tail\n",
    "import .Iterators: cycle, Cycle, take, repeat\n",
    "using Plots; default(fmt=:png,ls=:auto)"
   ]
  },
  {
   "cell_type": "markdown",
   "metadata": {},
   "source": [
    "STANFORD GLOVE EMBEDDINGS "
   ]
  },
  {
   "cell_type": "code",
   "execution_count": 2,
   "metadata": {},
   "outputs": [
    {
     "data": {
      "text/plain": [
       "IOStream(<file glove.42B.300d.txt>)"
      ]
     },
     "execution_count": 2,
     "metadata": {},
     "output_type": "execute_result"
    }
   ],
   "source": [
    "f = open(\"glove.42B.300d.txt\")"
   ]
  },
  {
   "cell_type": "code",
   "execution_count": 3,
   "metadata": {},
   "outputs": [],
   "source": [
    "lines = readlines(f);"
   ]
  },
  {
   "cell_type": "code",
   "execution_count": 4,
   "metadata": {},
   "outputs": [],
   "source": [
    "embeddingdict = Dict()\n",
    "embeddingindex = 1\n",
    "for line in lines\n",
    "    strword = split(line)\n",
    "    strname = strword[1]\n",
    "    embeddingdict[strname] = embeddingindex\n",
    "    embeddingindex+=1\n",
    "end"
   ]
  },
  {
   "cell_type": "markdown",
   "metadata": {},
   "source": [
    "SENTIMENT TREEBANK DATA"
   ]
  },
  {
   "cell_type": "code",
   "execution_count": 5,
   "metadata": {},
   "outputs": [],
   "source": [
    "txt1 = open(\"sentences.txt\")\n",
    "lines1 = readlines(txt1)\n",
    "txt2 = open(\"labels.txt\")\n",
    "lines2 = readlines(txt2);"
   ]
  },
  {
   "cell_type": "code",
   "execution_count": 6,
   "metadata": {},
   "outputs": [],
   "source": [
    "all_sentences = (x -> split(x)).(lines1);\n",
    "all_sentences = [(x -> lowercase(x)).(s) for s in all_sentences]\n",
    "        \n",
    "train_sentences2 = all_sentences[1:8534]\n",
    "test_sentences2 = all_sentences[8535:10744]\n",
    "val_sentences2 = all_sentences[10745:11844]\n",
    "\n",
    "train_labels = lines2[1:8534]\n",
    "train_labels = (x -> parse(Float32, x)).(train_labels)\n",
    "test_labels = lines2[8535:10744]\n",
    "val_labels = lines2[10745:11844];"
   ]
  },
  {
   "cell_type": "code",
   "execution_count": 7,
   "metadata": {},
   "outputs": [],
   "source": [
    "function mapfloat(label)\n",
    "    if (0 <= label < 0.2); return 1; end;\n",
    "    #if (0.4 <= label < 0.6); return 2; end;\n",
    "    #if (0.6 <= label <= 1.0); return 3; end;\n",
    "    if (0.2 <= label < 0.4); return 2; end;\n",
    "    if (0.4 <= label < 0.6); return 3; end;\n",
    "    if (0.6 <= label < 0.8); return 4; end;\n",
    "    if (0.8 <= label <= 1.0); return 5; end;\n",
    "end\n",
    "train_labels = (x->mapfloat(x)).(train_labels);"
   ]
  },
  {
   "cell_type": "code",
   "execution_count": 8,
   "metadata": {},
   "outputs": [],
   "source": [
    "function mapx(label)\n",
    "    if label == \"very neg\" return 1; end;\n",
    "    if label == \"neg\" return 2; end;\n",
    "    if label == \"neu\" return 3; end;\n",
    "    if label == \"pos\" return 4; end;\n",
    "    if label == \"very pos\" return 5; end;\n",
    "end\n",
    "\n",
    "function map2x(i)\n",
    "    if i == 1 return \"very negative\"; end;\n",
    "    if i == 2 return \"negative\"; end;\n",
    "    if i == 3 return \"neutral\"; end;\n",
    "    if i == 4 return \"positive\"; end;\n",
    "    if i == 5 return \"very positive\"; end;\n",
    "end\n",
    "                    \n",
    "test_labels = (x->mapx(x)).(test_labels);"
   ]
  },
  {
   "cell_type": "code",
   "execution_count": 9,
   "metadata": {},
   "outputs": [],
   "source": [
    "vocab = []\n",
    "for sentence in all_sentences\n",
    "    for word in sentence\n",
    "        if !(word in vocab); push!(vocab, word);end\n",
    "    end\n",
    "end\n",
    "push!(vocab, \"UNK\");"
   ]
  },
  {
   "cell_type": "code",
   "execution_count": 10,
   "metadata": {},
   "outputs": [],
   "source": [
    "w2i = Dict()\n",
    "i2w = Dict()\n",
    "dictindex = 1\n",
    "for word in vocab\n",
    "    w2i[word] = dictindex\n",
    "    i2w[dictindex] = word\n",
    "    dictindex+=1\n",
    "end\n",
    "w2i[\"UNK\"] = 19507\n",
    "i2w[19507] = \"UNK\";"
   ]
  },
  {
   "cell_type": "code",
   "execution_count": 11,
   "metadata": {},
   "outputs": [],
   "source": [
    "all_sentences = [(x -> w2i[x]).(s) for s in all_sentences];"
   ]
  },
  {
   "cell_type": "code",
   "execution_count": 12,
   "metadata": {},
   "outputs": [
    {
     "data": {
      "text/plain": [
       "2×1 Array{Int64,2}:\n",
       " 1804\n",
       "   54"
      ]
     },
     "execution_count": 12,
     "metadata": {},
     "output_type": "execute_result"
    }
   ],
   "source": [
    "function strings_to_indices(s)\n",
    "    s = split(s)\n",
    "    out = []\n",
    "    for word in s\n",
    "        word = lowercase(word)\n",
    "        if !(word in vocab)\n",
    "            word = w2i[\"UNK\"]\n",
    "        end\n",
    "        push!(out, w2i[word])\n",
    "    end\n",
    "    hcat(out)\n",
    "end\n",
    "\n",
    "strings_to_indices(\"hey there\")"
   ]
  },
  {
   "cell_type": "code",
   "execution_count": 13,
   "metadata": {},
   "outputs": [],
   "source": [
    "train_sentences = all_sentences[1:8534]\n",
    "test_sentences = all_sentences[8535:10744]\n",
    "val_sentences = all_sentences[10745:11844];"
   ]
  },
  {
   "cell_type": "code",
   "execution_count": 14,
   "metadata": {},
   "outputs": [],
   "source": [
    "maxlength = 56\n",
    "for sentence in train_sentences\n",
    "    while length(sentence) != maxlength\n",
    "        pushfirst!(sentence, w2i[\"UNK\"])\n",
    "    end\n",
    "end"
   ]
  },
  {
   "cell_type": "code",
   "execution_count": 15,
   "metadata": {},
   "outputs": [],
   "source": [
    "maxlength = 56\n",
    "for sentence in test_sentences\n",
    "    while length(sentence) != maxlength\n",
    "        pushfirst!(sentence,w2i[\"UNK\"])\n",
    "    end\n",
    "end"
   ]
  },
  {
   "cell_type": "markdown",
   "metadata": {},
   "source": [
    "CONSTRUCTING THE EMBEDDING MATRIX"
   ]
  },
  {
   "cell_type": "code",
   "execution_count": 16,
   "metadata": {},
   "outputs": [],
   "source": [
    "embedmatrix = []\n",
    "no_embeddings = []\n",
    "count = 0\n",
    "for word in vocab\n",
    "    if word in keys(embeddingdict)\n",
    "        wordvector = (x-> parse(Float32, x)).(split(lines[embeddingdict[word]])[2:301])\n",
    "        count += 1\n",
    "    else\n",
    "        wordvector = xavier(Float32, 300)\n",
    "        push!(no_embeddings, (word, wordvector))\n",
    "    end\n",
    "    push!(embedmatrix, hcat(wordvector))\n",
    "end"
   ]
  },
  {
   "cell_type": "code",
   "execution_count": 17,
   "metadata": {},
   "outputs": [],
   "source": [
    "embedmatrix = hcat(embedmatrix...);"
   ]
  },
  {
   "cell_type": "code",
   "execution_count": 18,
   "metadata": {},
   "outputs": [
    {
     "data": {
      "text/plain": [
       "(300, 19507)"
      ]
     },
     "execution_count": 18,
     "metadata": {},
     "output_type": "execute_result"
    }
   ],
   "source": [
    "size(embedmatrix)"
   ]
  },
  {
   "cell_type": "code",
   "execution_count": 19,
   "metadata": {},
   "outputs": [
    {
     "name": "stdout",
     "output_type": "stream",
     "text": [
      "18593 out of 19507 words are in Stanford Glove Embeddings. The rest is initialized randomly.\n"
     ]
    }
   ],
   "source": [
    "println(count, \" out of \", length(vocab), \" words are in Stanford Glove Embeddings. The rest is initialized randomly.\")"
   ]
  },
  {
   "cell_type": "markdown",
   "metadata": {},
   "source": [
    "SET UP MODEL"
   ]
  },
  {
   "cell_type": "code",
   "execution_count": 20,
   "metadata": {},
   "outputs": [
    {
     "data": {
      "text/plain": [
       "56"
      ]
     },
     "execution_count": 20,
     "metadata": {},
     "output_type": "execute_result"
    }
   ],
   "source": [
    "#Hyperparameters of the Model\n",
    "BATCHSIZE=5               # Number of instances in a minibatch\n",
    "EMBEDSIZE=300             # Word embedding size\n",
    "NUMHIDDEN=100             # Hidden layer size\n",
    "MAXLEN=150                # maximum size of the word sequence, pad shorter sequences, truncate longer ones\n",
    "VOCABSIZE=length(vocab)   # maximum vocabulary size, keep the most frequent 30K, map the rest to UNK token\n",
    "NUMCLASS=5                # number of output classes\n",
    "DROPOUT=0.5               # Dropout rate\n",
    "LR=0.002                  # Learning rate\n",
    "BETA_1=0.9                # Adam optimization parameter\n",
    "BETA_2=0.999              # Adam optimization parameter\n",
    "EPS=1e-08                 # Adam optimization parameter\n",
    "MAXLENGTH = 56            # Used for padding"
   ]
  },
  {
   "cell_type": "code",
   "execution_count": 21,
   "metadata": {},
   "outputs": [
    {
     "data": {
      "text/plain": [
       "(1706, 442)"
      ]
     },
     "execution_count": 21,
     "metadata": {},
     "output_type": "execute_result"
    }
   ],
   "source": [
    "dtrn = minibatch(train_sentences,train_labels,BATCHSIZE;shuffle=true)\n",
    "dtst = minibatch(test_sentences,test_labels ,BATCHSIZE)\n",
    "length(dtrn), length(dtst)"
   ]
  },
  {
   "cell_type": "code",
   "execution_count": 23,
   "metadata": {},
   "outputs": [],
   "source": [
    "#model struct\n",
    "mutable struct LSTMN\n",
    "    embeds\n",
    "    lstm\n",
    "    output\n",
    "    pdrop\n",
    "    Wh\n",
    "    Wx\n",
    "    Whh\n",
    "    memory_tape\n",
    "    hidden_tape\n",
    "end"
   ]
  },
  {
   "cell_type": "code",
   "execution_count": 24,
   "metadata": {},
   "outputs": [
    {
     "data": {
      "text/plain": [
       "LSTMN"
      ]
     },
     "execution_count": 24,
     "metadata": {},
     "output_type": "execute_result"
    }
   ],
   "source": [
    "#model constructor\n",
    "function LSTMN(input::Int, embed::Int, hidden::Int, output::Int; pdrop=0)\n",
    "    embeds = param(KnetArray(embedmatrix))\n",
    "    lstm = RNN(embed,hidden)\n",
    "    output = param(output, hidden)\n",
    "    Wh = param(KnetArray(xavier(Float32, 1,100)))\n",
    "    Wx = param(KnetArray(xavier(Float32, 1,300)))\n",
    "    Whh = param(KnetArray(xavier(Float32, 1,100)))\n",
    "    memory_tape = []\n",
    "    hidden_tape = []\n",
    "    LSTMN(embeds, lstm, output, pdrop, Wh, Wx, Whh, memory_tape, hidden_tape)\n",
    "end"
   ]
  },
  {
   "cell_type": "code",
   "execution_count": 25,
   "metadata": {},
   "outputs": [],
   "source": [
    "function (lstmn::LSTMN)(input)\n",
    "    embed = lstmn.embeds[:, permutedims(hcat(input...))]\n",
    "    embed = dropout(embed,lstmn.pdrop)\n",
    "    \n",
    "    memory_tape = []\n",
    "    hidden_tape = []\n",
    " \n",
    "    xt = embed[:,:,1]\n",
    "    \n",
    "    lstmn.lstm.h = KnetArray(zeros(Float32,100,5))\n",
    "    lstmn.lstm.c = KnetArray(zeros(Float32,100,5))\n",
    "    ht = lstmn.lstm.h\n",
    "    ct = lstmn.lstm.c[:,:,1]\n",
    "    hprev = ht\n",
    "    \n",
    "    xt = embed[:,:,1]\n",
    "    ht = lstmn.lstm(xt)\n",
    "    ct = lstmn.lstm.c[:,:,1]\n",
    "    \n",
    "    push!(hidden_tape, ht)\n",
    "    push!(memory_tape, ct)\n",
    "    \n",
    "    for t in 2:56\n",
    "        xt = embed[:,:,t]\n",
    "        ht = lstmn.lstm.h \n",
    "        ct = lstmn.lstm.c \n",
    "        \n",
    "        h = hcat(hidden_tape[1:t-1]...)\n",
    "        c = hcat(memory_tape[1:t-1]...)\n",
    "    \n",
    "        dot1 = lstmn.Wh * h\n",
    "        dot1 = reshape(dot1, (t-1), 5)\n",
    "        \n",
    "        dot2 = lstmn.Wx * xt        \n",
    "\n",
    "        dot3 = lstmn.Whh * hprev\n",
    "        \n",
    "        at = tanh.(dot1 .+ dot2 .+ dot3) \n",
    "        \n",
    "        soft = softmax(at; dims=1)\n",
    "        soft = reshape(soft, 5*(t-1))\n",
    "        \n",
    "        new_h = soft .* (h')\n",
    "        new_h = reshape(new_h, 5, (t-1), 100)\n",
    "        new_h = sum(new_h; dims = 2)\n",
    "        new_h = reshape(new_h, 5,100)\n",
    "        new_h = new_h'\n",
    "                \n",
    "        hprev = new_h\n",
    "        \n",
    "        new_c = soft .* (c')\n",
    "        new_c = reshape(new_c, 5, (t-1), 100)\n",
    "        new_c = sum(new_c; dims = 2)\n",
    "        new_c = reshape(new_c, 5,100)\n",
    "        new_c = new_c'\n",
    "    \n",
    "        lstmn.lstm.h = reshape(new_h, 100, 5, 1)\n",
    "        lstmn.lstm.c = reshape(new_c, 100, 5, 1)\n",
    "        \n",
    "        ht = lstmn.lstm(xt)\n",
    "        ct = lstmn.lstm.c[:,:,1]\n",
    "        \n",
    "        push!(hidden_tape, ht)\n",
    "        push!(memory_tape, ct)\n",
    "    end\n",
    "\n",
    "    hidden = dropout(ht,lstmn.pdrop)\n",
    "    return lstmn.output * hidden    \n",
    "end\n",
    "\n",
    "#model(input,output)\n",
    "(l::LSTMN)(input,output) = nll(l(input),output)\n",
    "#model(data)\n",
    "(l::LSTMN)(d::Knet.Data) = Knet.mean(l(x,y) for (x,y) in d)"
   ]
  },
  {
   "cell_type": "code",
   "execution_count": 26,
   "metadata": {},
   "outputs": [],
   "source": [
    "model = LSTMN(VOCABSIZE,EMBEDSIZE,NUMHIDDEN,NUMCLASS,pdrop=DROPOUT);"
   ]
  },
  {
   "cell_type": "code",
   "execution_count": 28,
   "metadata": {
    "scrolled": true
   },
   "outputs": [
    {
     "data": {
      "text/plain": [
       "1.6387999f0"
      ]
     },
     "execution_count": 28,
     "metadata": {},
     "output_type": "execute_result"
    }
   ],
   "source": [
    "x1, y1 = first(dtrn)\n",
    "model(x1, y1)"
   ]
  },
  {
   "cell_type": "code",
   "execution_count": 61,
   "metadata": {},
   "outputs": [],
   "source": [
    "Knet.save(\"lstmn46.jld2\", \"embeds\", model.embeds, \"lstm\", model.lstm, \"output\", model.output, \"Wh\", model.Wh, \"Wx\", model.Wx, \"Whh\", model.Whh)"
   ]
  },
  {
   "cell_type": "code",
   "execution_count": 33,
   "metadata": {},
   "outputs": [
    {
     "data": {
      "text/plain": [
       "fasttrain! (generic function with 2 methods)"
      ]
     },
     "execution_count": 33,
     "metadata": {},
     "output_type": "execute_result"
    }
   ],
   "source": [
    "function fasttrain!(lstmn::LSTMN, dtrn, dtst, max_iters=500)\n",
    "    a = adam(lstmn, take(cycle(dtrn), max_iters+1);lr=LR,beta1=BETA_1,beta2=BETA_2,eps=EPS)\n",
    "    progress!(a)\n",
    "end            "
   ]
  },
  {
   "cell_type": "code",
   "execution_count": 30,
   "metadata": {},
   "outputs": [
    {
     "data": {
      "text/plain": [
       "mytrain! (generic function with 3 methods)"
      ]
     },
     "execution_count": 30,
     "metadata": {},
     "output_type": "execute_result"
    }
   ],
   "source": [
    "function mytrain!(lstmn::LSTMN, dtrn, dtst,valid=10, max_iters=500)\n",
    "        \n",
    "    function pusher(lstmn::LSTMN,dtrn,dtst,trnloss,tstloss)\n",
    "        push!(trnloss, lstmn(dtrn))\n",
    "        push!(tstloss, lstmn(dtst))\n",
    "    end\n",
    "        \n",
    "    trnloss = []\n",
    "    tstloss = []\n",
    "    \n",
    "    takeevery(n,itr) = (x for (i,x) in enumerate(itr) if i % n == 1)            \n",
    "    #progress!(adam(model,repeat(dtrn,EPOCHS);lr=LR,beta1=BETA_1,beta2=BETA_2,eps=EPS))\n",
    "    #change the optimizer here: sgd, adam, ... @doc Knet.sgd to see other options :\n",
    "    #a = sgd(sc, take(cycle(dtrn), max_iters+1))        \n",
    "    a = adam(lstmn, take(cycle(dtrn), max_iters+1);lr=LR,beta1=BETA_1,beta2=BETA_2,eps=EPS)                   \n",
    "    b = (pusher(lstmn,dtrn,dtst,trnloss,tstloss) for x in takeevery(valid, a))\n",
    "    progress!(b)    \n",
    "    return 0:valid:max_iters, trnloss, tstloss\n",
    "end"
   ]
  },
  {
   "cell_type": "code",
   "execution_count": 31,
   "metadata": {},
   "outputs": [
    {
     "data": {
      "text/plain": [
       "tgraph (generic function with 3 methods)"
      ]
     },
     "execution_count": 31,
     "metadata": {},
     "output_type": "execute_result"
    }
   ],
   "source": [
    "function tgraph(lstmn::LSTMN, dtrn, dtst, valid=10, max_iters=500)\n",
    "    #Training_Accuracy = accuracy(lstmn, dtrn)\n",
    "    #Test_Accuracy = accuracy(lstmn, dtst)\n",
    "    #println(\"Training Accuracy: \", accuracy(lstmn, dtrn))\n",
    "    #println(\"Test Accuracy: \", accuracy(lstmn, dtst))\n",
    "    \n",
    "    iters, trnloss, tstloss = mytrain!(lstmn,dtrn,dtst,valid,max_iters)\n",
    "    \n",
    "    println(\"Training Accuracy: \", accuracy(lstmn, dtrn))\n",
    "    println(\"Test Accuracy: \", accuracy(lstmn, dtst))\n",
    "    \n",
    "    push!(models, (model, accuracy))\n",
    "    \n",
    "    plot(iters, [trnloss, tstloss], labels=[:trn, :tst], xlabel=\"iterations\", ylabel=\"loss\")\n",
    "end"
   ]
  },
  {
   "cell_type": "code",
   "execution_count": 66,
   "metadata": {},
   "outputs": [
    {
     "data": {
      "text/plain": [
       "Dict{String,Any} with 6 entries:\n",
       "  \"lstm\"   => LSTM(input=300,hidden=100)\n",
       "  \"Wh\"     => P(KnetArray{Float32,2}(1,100))\n",
       "  \"output\" => P(KnetArray{Float32,2}(5,100))\n",
       "  \"embeds\" => P(KnetArray{Float32,2}(300,19507))\n",
       "  \"Whh\"    => P(KnetArray{Float32,2}(1,100))\n",
       "  \"Wx\"     => P(KnetArray{Float32,2}(1,300))"
      ]
     },
     "execution_count": 66,
     "metadata": {},
     "output_type": "execute_result"
    }
   ],
   "source": [
    "bestd = Knet.load(\"fine-grained.jld2\")"
   ]
  },
  {
   "cell_type": "code",
   "execution_count": 67,
   "metadata": {},
   "outputs": [
    {
     "data": {
      "text/plain": [
       "P(KnetArray{Float32,2}(1,300))"
      ]
     },
     "execution_count": 67,
     "metadata": {},
     "output_type": "execute_result"
    }
   ],
   "source": [
    "model.lstm = bestd[\"lstm\"]\n",
    "model.Wh = bestd[\"Wh\"]\n",
    "model.output = bestd[\"output\"]\n",
    "model.embeds = bestd[\"embeds\"]\n",
    "model.Whh = bestd[\"Whh\"]\n",
    "model.Wx = bestd[\"Wx\"]"
   ]
  },
  {
   "cell_type": "code",
   "execution_count": 40,
   "metadata": {},
   "outputs": [
    {
     "data": {
      "text/plain": [
       "predict (generic function with 1 method)"
      ]
     },
     "execution_count": 40,
     "metadata": {},
     "output_type": "execute_result"
    }
   ],
   "source": [
    "function predict(input)\n",
    "    input = split(lowercase.(input))\n",
    "    for i in 1:length(input) \n",
    "        if !(input[i] in vocab)\n",
    "            input[i] = \"UNK\"\n",
    "        end\n",
    "    end\n",
    "    input = (i->w2i[i]).(input)\n",
    "    while length(input) != maxlength\n",
    "        pushfirst!(input, w2i[\"UNK\"])\n",
    "    end\n",
    "    toybatch = [input]\n",
    "    push!(toybatch, ones(56))\n",
    "    push!(toybatch, ones(56))\n",
    "    push!(toybatch, ones(56))\n",
    "    push!(toybatch, ones(56))\n",
    "    r = argmax(Array(model(toybatch)), dims=1)[1][1]\n",
    "    [\"very negative\",\"negative\",\"neutral\",\"positive\",\"very positive\"][r]\n",
    "end"
   ]
  },
  {
   "cell_type": "markdown",
   "metadata": {},
   "source": [
    "Try your own sentences!"
   ]
  },
  {
   "cell_type": "code",
   "execution_count": 79,
   "metadata": {},
   "outputs": [
    {
     "name": "stdout",
     "output_type": "stream",
     "text": [
      "stdin> it is so bad it is an insult to any fan of the series\n"
     ]
    },
    {
     "data": {
      "text/plain": [
       "\"very negative\""
      ]
     },
     "execution_count": 79,
     "metadata": {},
     "output_type": "execute_result"
    }
   ],
   "source": [
    "userinput = readline(stdin)\n",
    "predict(userinput)"
   ]
  }
 ],
 "metadata": {
  "kernelspec": {
   "display_name": "Julia 1.1.0",
   "language": "julia",
   "name": "julia-1.1"
  },
  "language_info": {
   "file_extension": ".jl",
   "mimetype": "application/julia",
   "name": "julia",
   "version": "1.1.0"
  }
 },
 "nbformat": 4,
 "nbformat_minor": 2
}
