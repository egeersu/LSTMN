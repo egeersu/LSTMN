{
 "cells": [
  {
   "cell_type": "code",
   "execution_count": 29,
   "metadata": {},
   "outputs": [],
   "source": [
    "using Knet\n",
    "using CSV\n",
    "using DataFrames\n",
    "using DelimitedFiles, Statistics, Random"
   ]
  },
  {
   "cell_type": "code",
   "execution_count": 30,
   "metadata": {},
   "outputs": [],
   "source": [
    "test_df = CSV.File(\"test_data.csv\") |> DataFrame\n",
    "test_sentences = test_df.Sentence\n",
    "test_labels = test_df.Sentiment\n",
    "size(test_sentences), size(test_labels)\n",
    "\n",
    "function mapx(label)\n",
    "    if label == \"very neg\" return 1; end;\n",
    "    if label == \"neg\" return 2; end;\n",
    "    if label == \"neu\" return 3; end;\n",
    "    if label == \"pos\" return 4; end;\n",
    "    if label == \"very pos\" return 5; end;\n",
    "end\n",
    "\n",
    "test_labels = (label->mapx(label)).(test_labels);"
   ]
  },
  {
   "cell_type": "code",
   "execution_count": 31,
   "metadata": {},
   "outputs": [
    {
     "data": {
      "text/plain": [
       "((8534,), (8534,))"
      ]
     },
     "execution_count": 31,
     "metadata": {},
     "output_type": "execute_result"
    }
   ],
   "source": [
    "train_df = CSV.File(\"train_data.csv\") |> DataFrame\n",
    "train_sentences = train_df.Sentence\n",
    "train_labels = train_df.Score\n",
    "size(train_sentences), size(train_labels)"
   ]
  },
  {
   "cell_type": "code",
   "execution_count": 32,
   "metadata": {},
   "outputs": [
    {
     "data": {
      "text/plain": [
       "((1100,), (1100,))"
      ]
     },
     "execution_count": 32,
     "metadata": {},
     "output_type": "execute_result"
    }
   ],
   "source": [
    "val_df = CSV.File(\"val_data.csv\") |> DataFrame\n",
    "val_sentences = val_df.Sentence\n",
    "val_labels = val_df.Sentiment\n",
    "size(val_sentences), size(val_sentences)"
   ]
  },
  {
   "cell_type": "code",
   "execution_count": 33,
   "metadata": {},
   "outputs": [],
   "source": [
    "dtst = minibatch(test_sentences, test_labels, 10);"
   ]
  },
  {
   "cell_type": "code",
   "execution_count": 34,
   "metadata": {},
   "outputs": [],
   "source": [
    "struct Chain\n",
    "    layers\n",
    "    Chain(layers...) = new(layers)\n",
    "end\n",
    "\n",
    "(c::Chain)(x) = (for l in c.layers; x = l(x); end; x)\n",
    "(c::Chain)(x,y) = nll(c(x),y)\n",
    "(c::Chain)(d::Knet.Data) = mean(c(x,y) for (x,y) in d)\n",
    "\n",
    "function array_to_matrix(a1)\n",
    "    out = randn(length(a1), 5)\n",
    "    for i in 1:length(a1)\n",
    "        out[i,:] = a1[i]\n",
    "    end\n",
    "    permutedims(out)\n",
    "end;"
   ]
  },
  {
   "cell_type": "code",
   "execution_count": 35,
   "metadata": {},
   "outputs": [],
   "source": [
    "struct toylayer; w; end\n",
    "toylayer(i::Int) = toylayer(param(i))\n",
    "(t::toylayer)(x) = array_to_matrix(rand([[1,0,0,0,0],[0,1,0,0,0],[0,0,1,0,0],[0,0,0,1,0],[0,0,0,0,1]], length(x)))"
   ]
  },
  {
   "cell_type": "code",
   "execution_count": 36,
   "metadata": {},
   "outputs": [
    {
     "data": {
      "text/plain": [
       "Chain((toylayer(P(Array{Float32,1}(10))),))"
      ]
     },
     "execution_count": 36,
     "metadata": {},
     "output_type": "execute_result"
    }
   ],
   "source": [
    "LSTMN = Chain(toylayer(10))"
   ]
  },
  {
   "cell_type": "code",
   "execution_count": 37,
   "metadata": {},
   "outputs": [
    {
     "data": {
      "text/plain": [
       "0.20542986425339366"
      ]
     },
     "execution_count": 37,
     "metadata": {},
     "output_type": "execute_result"
    }
   ],
   "source": [
    "accuracy(LSTMN, dtst)"
   ]
  },
  {
   "cell_type": "code",
   "execution_count": 38,
   "metadata": {},
   "outputs": [
    {
     "data": {
      "text/plain": [
       "1.7120722605589718"
      ]
     },
     "execution_count": 38,
     "metadata": {},
     "output_type": "execute_result"
    }
   ],
   "source": [
    "LSTMN(dtst)"
   ]
  }
 ],
 "metadata": {
  "kernelspec": {
   "display_name": "Julia 1.0.3 (4 threads)",
   "language": "julia",
   "name": "julia-1.0k"
  },
  "language_info": {
   "file_extension": ".jl",
   "mimetype": "application/julia",
   "name": "julia",
   "version": "1.0.3"
  }
 },
 "nbformat": 4,
 "nbformat_minor": 2
}
